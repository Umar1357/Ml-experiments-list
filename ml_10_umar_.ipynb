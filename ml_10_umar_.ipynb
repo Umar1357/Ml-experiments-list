{
  "nbformat": 4,
  "nbformat_minor": 0,
  "metadata": {
    "colab": {
      "provenance": []
    },
    "kernelspec": {
      "name": "python3",
      "display_name": "Python 3"
    },
    "language_info": {
      "name": "python"
    }
  },
  "cells": [
    {
      "cell_type": "code",
      "execution_count": 8,
      "metadata": {
        "colab": {
          "base_uri": "https://localhost:8080/"
        },
        "id": "hatS-EJX2opB",
        "outputId": "5a452588-b15c-400e-ca43-1f9e43c7ad09"
      },
      "outputs": [
        {
          "output_type": "stream",
          "name": "stdout",
          "text": [
            "Input: \n",
            "[[0.66666667 1.        ]\n",
            " [0.33333333 0.55555556]\n",
            " [1.         0.66666667]]\n",
            "Actual Output: \n",
            "[[0.92]\n",
            " [0.86]\n",
            " [0.89]]\n",
            "Predicted Output: \n",
            " [[0.89401076]\n",
            " [0.88205203]\n",
            " [0.89329127]] \n",
            " @ Umar Shaikh \n",
            "\n"
          ]
        }
      ],
      "source": [
        "import numpy as np\n",
        "# Input data\n",
        "X = np.array(([2, 9], [1, 5], [3, 6]), dtype=float)\n",
        "y = np.array(([92], [86], [89]), dtype=float)\n",
        "# Normalize the input\n",
        "X = X / np.amax(X, axis=0)  # maximum of X array longitudinally\n",
        "y = y / 100  # normalize y\n",
        "# Sigmoid Function\n",
        "def sigmoid(x):\n",
        "    return 1 / (1 + np.exp(-x))\n",
        "# Derivative of Sigmoid Function\n",
        "def derivatives_sigmoid(x):\n",
        "    return x * (1 - x)\n",
        "# Variable initialization\n",
        "epoch = 5000  # Setting training iterations\n",
        "lr = 0.1  # Setting learning rate\n",
        "inputlayer_neurons = 2  # number of features in data set\n",
        "hiddenlayer_neurons = 3  # number of hidden layer neurons\n",
        "output_neurons = 1  # number of neurons at output layer\n",
        "# Weight and bias initialization\n",
        "wh = np.random.uniform(size=(inputlayer_neurons, hiddenlayer_neurons))\n",
        "bh = np.random.uniform(size=(1, hiddenlayer_neurons))\n",
        "wout = np.random.uniform(size=(hiddenlayer_neurons, output_neurons))\n",
        "bout = np.random.uniform(size=(1, output_neurons))\n",
        "# Training loop\n",
        "for i in range(epoch):\n",
        "    # Forward Propagation\n",
        "    hinpl = np.dot(X, wh)\n",
        "    hinp = hinpl + bh\n",
        "    hlayer_act = sigmoid(hinp)\n",
        "    outinp1 = np.dot(hlayer_act, wout)\n",
        "    outinp = outinp1 + bout\n",
        "    output = sigmoid(outinp)\n",
        "    # Backpropagation\n",
        "    EO = y - output\n",
        "    outgrad = derivatives_sigmoid(output)\n",
        "    d_output = EO * outgrad\n",
        "    EH = d_output.dot(wout.T)\n",
        "    hiddengrad = derivatives_sigmoid(hlayer_act)\n",
        "    d_hiddenlayer = EH * hiddengrad\n",
        "    # Update weights and biases\n",
        "    wout += hlayer_act.T.dot(d_output) * lr\n",
        "    wh += X.T.dot(d_hiddenlayer) * lr\n",
        "    bh += np.sum(d_hiddenlayer, axis=0, keepdims=True) * lr\n",
        "    bout += np.sum(d_output, axis=0, keepdims=True) * lr\n",
        "# Results\n",
        "print(\"Input: \\n\" + str(X))\n",
        "print(\"Actual Output: \\n\" + str(y))\n",
        "print(\"Predicted Output: \\n\", output,\"\\n @ Umar Shaikh \\n\")"
      ]
    }
  ]
}